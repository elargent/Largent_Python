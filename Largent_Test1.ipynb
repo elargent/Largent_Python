{
 "cells": [
  {
   "cell_type": "code",
   "execution_count": 106,
   "metadata": {
    "collapsed": false
   },
   "outputs": [
    {
     "name": "stdout",
     "output_type": "stream",
     "text": [
      "[NbConvertApp] Converting notebook Largent_Test1.ipynb to script\n",
      "[NbConvertApp] Writing 2349 bytes to Largent_Test1.py\n"
     ]
    }
   ],
   "source": [
    "# ------------------------------------------------------------------------- #\n",
    "# --------------------------------- Test 1 -------------------------------- #\n",
    "# ------------------------------------------------------------------------- #\n",
    "\n",
    "get_ipython().system('ipython nbconvert --to script Largent_Test1.ipynb')\n",
    "\n",
    "# 1) polygperim\n",
    "\n",
    "#The function calculates the perimeter of a polynomial defined by the\n",
    "#coordinates provided in the input list. Note that the points must\n",
    "#be ordered in the manner that the points connect. The for loop caputres the dist. \n",
    "#between all the points EXCEPT for the endpoint and its connection to the first\n",
    "#point. This is why there is an additional perimeter calculation outside\n",
    "#of the for loop. \n",
    "#\n",
    "#Parameters:\n",
    "#list1 - a list composed of tuples which represent x,y coordinates\n",
    "#perimeter - number representing the perimeter\n",
    "#x1,x2 - number representing the x coordinates of two points that connect\n",
    "#y1,y2 - number representing the y coordinates of two points that connect\n",
    "\n",
    "def polygperim(list1):\n",
    "    perimeter = 0\n",
    "    for i in range(len(list1)-1):\n",
    "            x1, y1 = list1[i]\n",
    "            x2, y2 = list1[i+1]\n",
    "            perimeter += ((x2-x1)**2 + (y2-y1)**2)**.5\n",
    "    x1, y1 = list1[len(list1)-1]\n",
    "    x2, y2 = list1[0]\n",
    "    perimeter += ((x2-x1)**2 + (y2-y1)**2)**.5\n",
    "    \n",
    "    return perimeter\n",
    "\n",
    "polygperim(coords)\n",
    "\n",
    "# 2) polygarea\n",
    "\n",
    "#The function calculates the area of a polynomial defined by the\n",
    "#coordinates provided in the input list. Note that the points must\n",
    "#be ordered in the manner that the points connect. The for loop caputres the area  \n",
    "#calculations for all the points EXCEPT for the endpoint and its connection to the first\n",
    "#point. This is why there is an additional area calculation outside\n",
    "#of the for loop. \n",
    "#\n",
    "#Parameters:\n",
    "#list1 - a list composed of tuples which represent x,y coordinates\n",
    "#area - number representing the area\n",
    "#x1,x2 - number representing the x coordinates of two points that connect\n",
    "#y1,y2 - number representing the y coordinates of two points that connect\n",
    "\n",
    "def polygarea(list1):\n",
    "    area = 0\n",
    "    for i in range(len(list1)-1):\n",
    "            x1, y1 = list1[i]\n",
    "            x2, y2 = list1[i+1]\n",
    "            area += (x1*y2 - x2*y1)\n",
    "    x1, y1 = list1[len(list1)-1]\n",
    "    x2, y2 = list1[0]\n",
    "    area += (x1*y2-x2*y1)\n",
    "    area = .5 * abs(area)\n",
    "    return area\n"
   ]
  },
  {
   "cell_type": "code",
   "execution_count": null,
   "metadata": {
    "collapsed": true
   },
   "outputs": [],
   "source": []
  }
 ],
 "metadata": {
  "kernelspec": {
   "display_name": "Python 3",
   "language": "python",
   "name": "python3"
  },
  "language_info": {
   "codemirror_mode": {
    "name": "ipython",
    "version": 3
   },
   "file_extension": ".py",
   "mimetype": "text/x-python",
   "name": "python",
   "nbconvert_exporter": "python",
   "pygments_lexer": "ipython3",
   "version": "3.5.1"
  }
 },
 "nbformat": 4,
 "nbformat_minor": 0
}
