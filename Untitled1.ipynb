{
 "cells": [
  {
   "cell_type": "code",
   "execution_count": 1,
   "metadata": {
    "collapsed": false
   },
   "outputs": [
    {
     "name": "stdout",
     "output_type": "stream",
     "text": [
      "#1\n",
      "\n",
      "0\n",
      "1\n",
      "1\n",
      "2\n",
      "3\n",
      "5\n",
      "8\n",
      "13\n",
      "21\n",
      "34\n",
      "55\n",
      "89\n",
      "144\n",
      "233\n",
      "377\n",
      "Help on function fib in module __main__:\n",
      "\n",
      "fib(n)\n",
      "    This functions prints the series of Fibonacci numbers that are less than\n",
      "    the parameter n.\n",
      "    \n",
      "    PARAMETERS:\n",
      "    n - integer\n",
      "    \n",
      "    :param n: integer\n",
      "    :return:\n",
      "\n",
      "\n",
      "\n"
     ]
    }
   ],
   "source": [
    "def fib(n):\n",
    "    \"\"\"\n",
    "    This functions prints the series of Fibonacci numbers that are less than\n",
    "    the parameter n.\n",
    "\n",
    "    PARAMETERS:\n",
    "    n - integer\n",
    "\n",
    "    :param n: integer\n",
    "    :return:\n",
    "    \"\"\"\n",
    "    temp1 = 0\n",
    "    temp2 = 1\n",
    "    if n > 0:\n",
    "        print(temp1)\n",
    "    while n > temp2:\n",
    "        print(temp2)\n",
    "        temp2 += temp1\n",
    "        temp1 = temp2 - temp1\n",
    "    return;\n",
    "\n",
    "print('#1\\n')\n",
    "fib(500)\n",
    "help(fib)\n",
    "print('\\n')"
   ]
  },
  {
   "cell_type": "code",
   "execution_count": null,
   "metadata": {
    "collapsed": true
   },
   "outputs": [],
   "source": []
  }
 ],
 "metadata": {
  "kernelspec": {
   "display_name": "Python 3",
   "language": "python",
   "name": "python3"
  },
  "language_info": {
   "codemirror_mode": {
    "name": "ipython",
    "version": 3
   },
   "file_extension": ".py",
   "mimetype": "text/x-python",
   "name": "python",
   "nbconvert_exporter": "python",
   "pygments_lexer": "ipython3",
   "version": "3.5.1"
  }
 },
 "nbformat": 4,
 "nbformat_minor": 0
}
